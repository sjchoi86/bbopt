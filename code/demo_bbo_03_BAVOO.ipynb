{
 "cells": [
  {
   "cell_type": "markdown",
   "metadata": {},
   "source": [
    "# Bayesian VOO"
   ]
  },
  {
   "cell_type": "code",
   "execution_count": null,
   "metadata": {},
   "outputs": [],
   "source": [
    "import ray\n",
    "import numpy as np\n",
    "import matplotlib.pyplot as plt\n",
    "from util import cos_exp_square_nd,run_bavoo,plot_line\n",
    "%matplotlib inline \n",
    "%config InlineBackend.figure_format = 'retina'\n",
    "np.set_printoptions(precision=3)\n",
    "print (\"Packages Loaded.\")"
   ]
  },
  {
   "cell_type": "code",
   "execution_count": null,
   "metadata": {},
   "outputs": [],
   "source": [
    "def func_eval(x): # x:[n x d]\n",
    "    y = cos_exp_square_nd(x)\n",
    "    return y # y:[n x 1]"
   ]
  },
  {
   "cell_type": "markdown",
   "metadata": {},
   "source": [
    "### Run BAVOO, VOO, and BO"
   ]
  },
  {
   "cell_type": "code",
   "execution_count": null,
   "metadata": {
    "scrolled": true
   },
   "outputs": [],
   "source": [
    "xmin,xmax,seed,VERBOSE = -2.0,+2.0,0,True\n",
    "USE_RAY,n_worker,n_sample_for_bo,max_try_sbv = True,10,5000,20000\n",
    "ray.init(configure_logging=False)\n",
    "for xdim in [2,3,4,5]:\n",
    "    n_data_max = 200*int(1.5**xdim)\n",
    "    x_minmax = np.tile(np.array([[xmin,xmax]]),(xdim,1))\n",
    "    # Run BAVOO\n",
    "    x_data_bv,y_data_bv = run_bavoo(func_eval,x_minmax,USE_RAY=USE_RAY,\n",
    "        n_random=1,n_bo=1,n_voo=1,n_cd=1,n_data_max=n_data_max,n_worker=n_worker,seed=seed,\n",
    "        n_sample_for_bo=n_sample_for_bo,max_try_sbv=max_try_sbv,save_folder='',VERBOSE=VERBOSE)\n",
    "    # Run VOO\n",
    "    x_data_voo,y_data_voo = run_bavoo(func_eval,x_minmax,USE_RAY=USE_RAY,\n",
    "        n_random=1,n_bo=0,n_voo=1,n_cd=0,n_data_max=n_data_max,n_worker=n_worker,seed=seed,\n",
    "        n_sample_for_bo=n_sample_for_bo,max_try_sbv=max_try_sbv,save_folder='',VERBOSE=VERBOSE)\n",
    "    # Run BO\n",
    "    x_data_bo,y_data_bo = run_bavoo(func_eval,x_minmax,USE_RAY=USE_RAY,\n",
    "        n_random=0,n_bo=1,n_voo=0,n_cd=0,n_data_max=n_data_max,n_worker=n_worker,seed=seed,\n",
    "        n_sample_for_bo=n_sample_for_bo,max_try_sbv=max_try_sbv,save_folder='',VERBOSE=VERBOSE)\n",
    "    # Plot results\n",
    "    xin = np.linspace(0,n_data_max-1,n_data_max).reshape((-1,1))\n",
    "    plot_line(x=xin,y=np.minimum.accumulate(y_data_bv[:n_data_max,0:1]),fmt='-',lc='r',label='BAVOO',\n",
    "              x2=xin,y2=np.minimum.accumulate(y_data_bo[:n_data_max,0:1]),fmt2=':',lc2='b',label2='BO',\n",
    "              x3=xin,y3=np.minimum.accumulate(y_data_voo[:n_data_max,0:1]),fmt3='--',lc3='m',label3='VOO',\n",
    "              tstr='Input dimension is [%d]'%(xdim),tfs=20,\n",
    "              lloc='upper right')\n",
    "ray.shutdown()"
   ]
  },
  {
   "cell_type": "code",
   "execution_count": null,
   "metadata": {},
   "outputs": [],
   "source": []
  }
 ],
 "metadata": {
  "kernelspec": {
   "display_name": "Python 3",
   "language": "python",
   "name": "python3"
  },
  "language_info": {
   "codemirror_mode": {
    "name": "ipython",
    "version": 3
   },
   "file_extension": ".py",
   "mimetype": "text/x-python",
   "name": "python",
   "nbconvert_exporter": "python",
   "pygments_lexer": "ipython3",
   "version": "3.6.7"
  }
 },
 "nbformat": 4,
 "nbformat_minor": 2
}
